{
 "cells": [
  {
   "cell_type": "code",
   "execution_count": 1,
   "metadata": {},
   "outputs": [
    {
     "data": {
      "image/png": "[encoded data removed]",
      "text/plain": [
       "<Figure size 432x288 with 1 Axes>"
      ]
     },
     "metadata": {
      "needs_background": "light"
     },
     "output_type": "display_data"
    }
   ],
   "source": [
    "import pandas as pd\n",
    "import numpy as np\n",
    "import matplotlib.pyplot as plt\n",
    "from scipy import stats\n",
    "\n",
    "\n",
    "url = 'http://cdn.jsdelivr.net/gh/al34n1x/DataScience/data/BrachiopodBiometrics.txt' # Endpoint desde donde tomaremos los datos\n",
    "\n",
    "\n",
    "df = pd.read_csv(url) #Leemos el html y lo asignamos a la variable\n",
    "serie = df.iloc[:,:]\n",
    "\n",
    "\n",
    "# Ahora que tenemos los encabezados CSV, leo los registros en arrays de numpy.\n",
    "Length = np.array(df[\"Length/mm\"],   dtype=float)\n",
    "Width  = np.array(df[\"Width/mm\"], dtype=float)\n",
    "\n",
    "\n",
    "slope, intercept, r_value, p_value, std_err = stats.linregress(Length, Width)\n",
    "\n",
    "\n",
    "# 'bx' significa marcadores azules 'x'\n",
    "# zorder = 3 para asegurarse de que esté delante de la cuadrícula\n",
    "plt.plot(Length, Width, 'bx', markersize=5, markeredgewidth=2, zorder=3)\n",
    "                            \n",
    "# No etiquetar un gráfico es imperdonable. \n",
    "plt.xlabel(\"Length/mm\",weight='bold')\n",
    "plt.ylabel(\"Width/mm\",weight='bold')\n",
    "\n",
    "\n",
    "# El resto es bonus\n",
    "plt.xlim(0, 6)                 # ambas escalas entre 0 y 100\n",
    "plt.ylim(0, 6)\n",
    "\n",
    "\n",
    "# Las etiquetas de marca son largas y ocupan mucho espacio. Para mejorar\n",
    "# la legibilidad de nuestro código podemos almacenarlos como listas llamadas:\n",
    "# xticktitles y yticktitles\n",
    "xticktitles = [\"0\", \"1\", \"2\", \"3\", \"4\", \"5\", \"6\"]\n",
    "yticktitles = [\"0\", \"1\", \"2\", \"3\", \"4\", \"5\", \"6\"]\n",
    "\n",
    "\n",
    "# Marcas y etiquetas para configurar por límites de categoría\n",
    "plt.xticks([0,1,2, 3, 4, 5, 6],xticktitles, rotation=\"vertical\")\n",
    "plt.yticks([0,1,2, 3, 4, 5, 6],   yticktitles)\n",
    "\n",
    "\n",
    "# Activamos la cuadrícula con finas líneas verdes punteadas\n",
    "plt.grid(linestyle='--', linewidth=.5, color='green',zorder=1)\n",
    "\n",
    "\n",
    "# Titulos\n",
    "plt.title(\"Ejercicio 2.1\",weight='bold')\n",
    "\n",
    "\n",
    "plt.plot(Length, intercept + slope*Length, 'r', label='fitted line')\n",
    "\n",
    "\n",
    "# Mostrar el gráfico\n",
    "plt.show()\n",
    "\n"
   ]
  },
  {
   "cell_type": "code",
   "execution_count": null,
   "metadata": {},
   "outputs": [],
   "source": []
  }
 ],
 "metadata": {
  "kernelspec": {
   "display_name": "Python 3",
   "language": "python",
   "name": "python3"
  },
  "language_info": {
   "codemirror_mode": {
    "name": "ipython",
    "version": 3
   },
   "file_extension": ".py",
   "mimetype": "text/x-python",
   "name": "python",
   "nbconvert_exporter": "python",
   "pygments_lexer": "ipython3",
   "version": "3.7.6"
  }
 },
 "nbformat": 4,
 "nbformat_minor": 4
}
